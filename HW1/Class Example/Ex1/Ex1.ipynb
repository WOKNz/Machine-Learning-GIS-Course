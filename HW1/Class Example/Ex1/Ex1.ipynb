{
 "cells": [
  {
   "cell_type": "code",
   "execution_count": null,
   "metadata": {
    "collapsed": true
   },
   "outputs": [],
   "source": []
  },
  {
   "cell_type": "markdown",
   "source": [
    "### Starting our first Tutorial:Matan Mor Ex1 \n",
    "Importing Our Modules"
   ],
   "metadata": {
    "collapsed": false
   }
  },
  {
   "cell_type": "code",
   "execution_count": 1,
   "outputs": [],
   "source": [
    "import os\n",
    "import geopandas as gpd\n",
    "import numpy \n",
    "import pandas as pd\n",
    "from shapely.geometry import LineString, Point, Polygon\n",
    "from geopy.distance import great_circle, geodesic\n",
    "from geopy.geocoders import Nominatim\n",
    "from geopy.extra.rate_limiter import RateLimiter\n",
    "from geopandas.tools import reverse_geocode\n",
    "import geopandas as gpd\n",
    "from geopandas.tools.geocoding import geocode\n",
    "from geopy.geocoders import Nominatim"
   ],
   "metadata": {
    "collapsed": false,
    "pycharm": {
     "name": "#%%\n",
     "is_executing": false
    }
   }
  },
  {
   "cell_type": "markdown",
   "source": [
    "### Let's Try Shapely:Points \n",
    "$\\hat{Y} = \\hat{\\beta}_{0} + \\sum \\limits _{j=1} ^{p} X_{j}\\hat{\\beta}_{j} $"
   ],
   "metadata": {
    "collapsed": false
   }
  },
  {
   "cell_type": "code",
   "execution_count": 2,
   "outputs": [
    {
     "name": "stdout",
     "text": [
      "the distance between point1 to point 2 is 6.0\n"
     ],
     "output_type": "stream"
    }
   ],
   "source": [
    "#Define Points\n",
    "point1 = Point(2,3)\n",
    "point2 = Point(8,3)\n",
    "point3 = Point(4,6)\n",
    "#Extract coordinates\n",
    "Point_coords = point1.coords\n",
    "x = point1.x\n",
    "y = point2.y\n",
    "# or\n",
    "xy = Point_coords.xy\n",
    "#calculate distance\n",
    "point_distance = point2.distance(point1)\n",
    "\n",
    "print(\"the distance between point1 to point 2 is {}\".format(point_distance))\n"
   ],
   "metadata": {
    "collapsed": false,
    "pycharm": {
     "name": "#%%\n",
     "is_executing": false
    }
   }
  },
  {
   "cell_type": "markdown",
   "source": [
    "### Let's Try Shapely:Line & Polygon\n"
   ],
   "metadata": {
    "collapsed": false
   }
  },
  {
   "cell_type": "code",
   "execution_count": 3,
   "outputs": [
    {
     "name": "stdout",
     "text": [
      "line distance is 6.0\n",
      "centroid of poly1 is POINT (4.666666666666667 4)\n",
      "centroid of poly2 is POINT (4.666666666666667 4)\n",
      "bounds of poly2 is (2.0, 3.0, 8.0, 6.0)\n",
      "check if points1 is within polygon=False\n"
     ],
     "output_type": "stream"
    }
   ],
   "source": [
    "line = LineString([point1, point2])\n",
    "print (\"line distance is {}\".format(line.length))\n",
    "\n",
    "Poly1 = Polygon([p.x, p.y] for p in [point1,point2,point3])\n",
    "Poly2 = Polygon([[point1.x,point1.y],[point2.x,point2.y],[point3.x,point3.y]])\n",
    "\n",
    "print(\"centroid of poly1 is {}\".format(Poly1.centroid))\n",
    "print('centroid of poly2 is {}'.format(Poly2.centroid))\n",
    "print(\"bounds of poly2 is {}\".format(Poly2.bounds))\n",
    "\n",
    "#geometry analysis\n",
    "\n",
    "print(\"check if points1 is within polygon=\" +str(point1.within(Poly1)))"
   ],
   "metadata": {
    "collapsed": false,
    "pycharm": {
     "name": "#%%\n",
     "is_executing": false
    }
   }
  },
  {
   "cell_type": "markdown",
   "source": [
    "# Let's Try GeoPandas\n"
   ],
   "metadata": {
    "collapsed": false
   }
  },
  {
   "cell_type": "code",
   "execution_count": 4,
   "outputs": [
    {
     "data": {
      "text/plain": "      osm_id             timestamp             name      type  \\\n0   93820428  2015-02-18T10:38:37Z  ××¡×¢×£ ×××ª  bus_stop   \n1  269680720  2010-12-22T12:05:35Z             None  bus_stop   \n2  269680722  2009-03-23T19:26:30Z             None  bus_stop   \n3  269724273  2008-10-19T19:03:58Z             None  bus_stop   \n4  269724274  2008-10-19T19:03:58Z             None  bus_stop   \n\n                    geometry  \n0  POINT (35.21057 32.67814)  \n1  POINT (34.87332 32.29751)  \n2  POINT (34.87549 32.31037)  \n3  POINT (34.87369 32.30285)  \n4  POINT (34.87432 32.30654)  ",
      "text/html": "<div>\n<style scoped>\n    .dataframe tbody tr th:only-of-type {\n        vertical-align: middle;\n    }\n\n    .dataframe tbody tr th {\n        vertical-align: top;\n    }\n\n    .dataframe thead th {\n        text-align: right;\n    }\n</style>\n<table border=\"1\" class=\"dataframe\">\n  <thead>\n    <tr style=\"text-align: right;\">\n      <th></th>\n      <th>osm_id</th>\n      <th>timestamp</th>\n      <th>name</th>\n      <th>type</th>\n      <th>geometry</th>\n    </tr>\n  </thead>\n  <tbody>\n    <tr>\n      <th>0</th>\n      <td>93820428</td>\n      <td>2015-02-18T10:38:37Z</td>\n      <td>××¡×¢×£ ×××ª</td>\n      <td>bus_stop</td>\n      <td>POINT (35.21057 32.67814)</td>\n    </tr>\n    <tr>\n      <th>1</th>\n      <td>269680720</td>\n      <td>2010-12-22T12:05:35Z</td>\n      <td>None</td>\n      <td>bus_stop</td>\n      <td>POINT (34.87332 32.29751)</td>\n    </tr>\n    <tr>\n      <th>2</th>\n      <td>269680722</td>\n      <td>2009-03-23T19:26:30Z</td>\n      <td>None</td>\n      <td>bus_stop</td>\n      <td>POINT (34.87549 32.31037)</td>\n    </tr>\n    <tr>\n      <th>3</th>\n      <td>269724273</td>\n      <td>2008-10-19T19:03:58Z</td>\n      <td>None</td>\n      <td>bus_stop</td>\n      <td>POINT (34.87369 32.30285)</td>\n    </tr>\n    <tr>\n      <th>4</th>\n      <td>269724274</td>\n      <td>2008-10-19T19:03:58Z</td>\n      <td>None</td>\n      <td>bus_stop</td>\n      <td>POINT (34.87432 32.30654)</td>\n    </tr>\n  </tbody>\n</table>\n</div>"
     },
     "metadata": {},
     "output_type": "execute_result",
     "execution_count": 4
    }
   ],
   "source": [
    "file_path = r'C:\\Users\\smmor\\OneDrive - Technion\\Technion\\Course_Exercises_2020_winter\\GIS_Developement_016834\\Homeworks\\HW1\\Bus_Stops.shp'\n",
    "data = gpd.read_file(file_path)\n",
    "data.head()\n",
    "\n"
   ],
   "metadata": {
    "collapsed": false,
    "pycharm": {
     "name": "#%%\n",
     "is_executing": false
    }
   }
  },
  {
   "cell_type": "markdown",
   "source": [
    "### Let's Try GeoCoding"
   ],
   "metadata": {
    "collapsed": false
   }
  },
  {
   "cell_type": "code",
   "execution_count": 5,
   "outputs": [
    {
     "name": "stdout",
     "text": [
      "32.0796769 34.7763972\n"
     ],
     "output_type": "stream"
    }
   ],
   "source": [
    "geolocator = Nominatim(user_agent=\"users address\")\n",
    "geo_code = RateLimiter(geolocator.geocode, min_delay_seconds=1, max_retries=5, error_wait_seconds=5,return_value_on_exception=None)\n",
    "address ='frishman, tel-aviv, Israel'\n",
    "points_address = geo_code(address)\n",
    "print(points_address.latitude,points_address.longitude)\n",
    "#Users_PD['Location'] = Users_PD['user_address'].apply(geo_code)\n",
    "#Users_PD['point'] = Users_PD['Location'].apply(lambda loc: tuple(loc.point) if loc else None)\n",
    "#df = geocode(['boston, ma', '1600 pennsylvania ave. washington, dc'])#add here the lambda analysis\n",
    "#select analysis\n",
    "##ddgeoo = geocode(User_address[0][2],provider='nominatim')"
   ],
   "metadata": {
    "collapsed": false,
    "pycharm": {
     "name": "#%%\n",
     "is_executing": false
    }
   }
  },
  {
   "cell_type": "markdown",
   "source": [
    "### Working with geoPandas:Lambda"
   ],
   "metadata": {
    "collapsed": false
   }
  },
  {
   "cell_type": "code",
   "execution_count": 38,
   "outputs": [
    {
     "name": "stdout",
     "text": [
      "id            2\n",
      "name      Frank\n",
      "age          28\n",
      "income     8400\n",
      "Name: 1, dtype: object\n"
     ],
     "output_type": "stream"
    },
    {
     "data": {
      "text/plain": "   id   name  age  income\n1   2  Frank   28    8400\n2   3  Janet   18     240\n3   4   Ryan   13       0\n4   5   Mary   33   12000",
      "text/html": "<div>\n<style scoped>\n    .dataframe tbody tr th:only-of-type {\n        vertical-align: middle;\n    }\n\n    .dataframe tbody tr th {\n        vertical-align: top;\n    }\n\n    .dataframe thead th {\n        text-align: right;\n    }\n</style>\n<table border=\"1\" class=\"dataframe\">\n  <thead>\n    <tr style=\"text-align: right;\">\n      <th></th>\n      <th>id</th>\n      <th>name</th>\n      <th>age</th>\n      <th>income</th>\n    </tr>\n  </thead>\n  <tbody>\n    <tr>\n      <th>1</th>\n      <td>2</td>\n      <td>Frank</td>\n      <td>28</td>\n      <td>8400</td>\n    </tr>\n    <tr>\n      <th>2</th>\n      <td>3</td>\n      <td>Janet</td>\n      <td>18</td>\n      <td>240</td>\n    </tr>\n    <tr>\n      <th>3</th>\n      <td>4</td>\n      <td>Ryan</td>\n      <td>13</td>\n      <td>0</td>\n    </tr>\n    <tr>\n      <th>4</th>\n      <td>5</td>\n      <td>Mary</td>\n      <td>33</td>\n      <td>12000</td>\n    </tr>\n  </tbody>\n</table>\n</div>"
     },
     "metadata": {},
     "output_type": "execute_result",
     "execution_count": 38
    }
   ],
   "source": [
    "df=pd.DataFrame({\n",
    "    'id':[1,2,3,4,5],\n",
    "    'name':['Jeremy','Frank','Janet','Ryan','Mary'],\n",
    "    'age':[20,25,15,10,30],\n",
    "    'income':[4000,7000,200,0,10000]\n",
    "})\n",
    "# add 3 to the age\n",
    "df['age']=df.apply(lambda x: x['age']+3,axis=1)\n",
    "# add 20% income\n",
    "df['income'] = list(map(lambda x:int(x+x*0.2),df['income']))\n",
    "\n",
    "\n",
    "print(df.iloc[1])\n",
    "index1 = df[df['age']<20].index\n",
    "df.head()\n",
    "df.drop([0])"
   ],
   "metadata": {
    "collapsed": false,
    "pycharm": {
     "name": "#%%\n",
     "is_executing": false
    }
   }
  }
 ],
 "metadata": {
  "kernelspec": {
   "display_name": "Python 3",
   "language": "python",
   "name": "python3"
  },
  "language_info": {
   "codemirror_mode": {
    "name": "ipython",
    "version": 2
   },
   "file_extension": ".py",
   "mimetype": "text/x-python",
   "name": "python",
   "nbconvert_exporter": "python",
   "pygments_lexer": "ipython2",
   "version": "2.7.6"
  },
  "pycharm": {
   "stem_cell": {
    "cell_type": "raw",
    "source": [],
    "metadata": {
     "collapsed": false
    }
   }
  }
 },
 "nbformat": 4,
 "nbformat_minor": 0
}